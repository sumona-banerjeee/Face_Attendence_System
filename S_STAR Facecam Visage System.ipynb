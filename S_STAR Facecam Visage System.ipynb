{
 "cells": [
  {
   "cell_type": "code",
   "execution_count": 1,
   "id": "9142721a-bf70-4368-8b0b-cd87bf8e2113",
   "metadata": {},
   "outputs": [
    {
     "name": "stdout",
     "output_type": "stream",
     "text": [
      "['Prof Dr Biswajoy Sir', 'Prof Sagarika Maam', 'Prof Hriday Sir']\n"
     ]
    }
   ],
   "source": [
    "import face_recognition\n",
    "import cv2\n",
    "import numpy as np\n",
    "import csv\n",
    "from datetime import datetime\n",
    "\n",
    "video_capture = cv2.VideoCapture(0)\n",
    "\n",
    "Prof_Dipta_Sir_image = face_recognition.load_image_file(\"Prof_Dipta_Sir.png\")\n",
    "Prof_Dipta_Sir_encoding = face_recognition.face_encodings(Prof_Dipta_Sir_image)[0]\n",
    "\n",
    "Prof_Dr_Biswajoy_Sir_image = face_recognition.load_image_file(\"Prof_Dr_Biswajoy_Sir.png\")\n",
    "Prof_Dr_Biswajoy_Sir_encoding = face_recognition.face_encodings(Prof_Dr_Biswajoy_Sir_image)[0]\n",
    "\n",
    "Prof_Sagarika_Maam_image = face_recognition.load_image_file(\"Prof_Sagarika_Ma'am.png\")\n",
    "Prof_Sagarika_Maam_encoding = face_recognition.face_encodings(Prof_Sagarika_Maam_image)[0]\n",
    "\n",
    "Prof_Hriday_Sir_image = face_recognition.load_image_file(\"Prof_Hriday_Sir.png\")\n",
    "Prof_Hriday_Sir_encoding = face_recognition.face_encodings(Prof_Hriday_Sir_image)[0]\n",
    "\n",
    "known_face_encodings = [\n",
    "    Prof_Dipta_Sir_encoding,\n",
    "    Prof_Dr_Biswajoy_Sir_encoding,\n",
    "    Prof_Sagarika_Maam_encoding,\n",
    "    Prof_Hriday_Sir_encoding\n",
    "]\n",
    "\n",
    "known_face_names = [\n",
    "    \"Prof Dipta Sir\",\n",
    "    \"Prof Dr Biswajoy Sir\",\n",
    "    \"Prof Sagarika Maam\",\n",
    "    \"Prof Hriday Sir\"\n",
    "]\n",
    "\n",
    "students = known_face_names.copy()\n",
    "\n",
    "now = datetime.now()\n",
    "current_date = now.strftime(\"%Y-%m-%d\")\n",
    "\n",
    "with open(current_date+'.csv', 'w+', newline='') as f:\n",
    "    lnwriter = csv.writer(f)\n",
    "\n",
    "    while True:\n",
    "        _, frame = video_capture.read()\n",
    "        small_frame = cv2.resize(frame, (0, 0), fx=0.25, fy=0.25)\n",
    "        rgb_small_frame = cv2.cvtColor(small_frame, cv2.COLOR_BGR2RGB)\n",
    "\n",
    "        face_locations = face_recognition.face_locations(rgb_small_frame)\n",
    "        face_encodings = face_recognition.face_encodings(rgb_small_frame, face_locations)\n",
    "\n",
    "        for face_encoding in face_encodings:\n",
    "            matches = face_recognition.compare_faces(known_face_encodings, face_encoding)\n",
    "            name = \"Unknown\"\n",
    "\n",
    "            if True in matches:\n",
    "                first_match_index = matches.index(True)\n",
    "                name = known_face_names[first_match_index]\n",
    "\n",
    "                if name in students:\n",
    "                    students.remove(name)\n",
    "                    print(students)\n",
    "                    current_time = now.strftime(\"%H-%M-%S\")\n",
    "                    lnwriter.writerow([name, current_time])\n",
    "\n",
    "        cv2.imshow(\"Attendance System\", frame)\n",
    "        if cv2.waitKey(1) & 0xFF == ord('a'):\n",
    "            break\n",
    "\n",
    "video_capture.release()\n",
    "cv2.destroyAllWindows()\n"
   ]
  },
  {
   "cell_type": "code",
   "execution_count": null,
   "id": "b44bb149-4f79-449e-90b4-b59ae7e894bf",
   "metadata": {},
   "outputs": [],
   "source": []
  }
 ],
 "metadata": {
  "kernelspec": {
   "display_name": "Python 3 (ipykernel)",
   "language": "python",
   "name": "python3"
  },
  "language_info": {
   "codemirror_mode": {
    "name": "ipython",
    "version": 3
   },
   "file_extension": ".py",
   "mimetype": "text/x-python",
   "name": "python",
   "nbconvert_exporter": "python",
   "pygments_lexer": "ipython3",
   "version": "3.11.7"
  }
 },
 "nbformat": 4,
 "nbformat_minor": 5
}
